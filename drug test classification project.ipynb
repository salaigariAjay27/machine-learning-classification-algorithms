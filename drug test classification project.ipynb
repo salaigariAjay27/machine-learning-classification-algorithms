{
 "cells": [
  {
   "cell_type": "code",
   "execution_count": 1,
   "id": "d5472d6a",
   "metadata": {},
   "outputs": [],
   "source": [
    "#importing required libraries for data analysis\n",
    "import pandas as pd\n",
    "import numpy as np \n",
    "import matplotlib.pyplot as plt\n",
    "import seaborn as sns"
   ]
  },
  {
   "cell_type": "code",
   "execution_count": 2,
   "id": "f105e81b",
   "metadata": {},
   "outputs": [],
   "source": [
    "#open csv file\n",
    "df=pd.read_csv(\"C:\\\\Users\\\\Ajay\\\\Downloads\\\\kaggle drug dataset\\\\DRUG.csv\")"
   ]
  },
  {
   "cell_type": "code",
   "execution_count": 4,
   "id": "e69948e9",
   "metadata": {},
   "outputs": [
    {
     "data": {
      "text/html": [
       "<div>\n",
       "<style scoped>\n",
       "    .dataframe tbody tr th:only-of-type {\n",
       "        vertical-align: middle;\n",
       "    }\n",
       "\n",
       "    .dataframe tbody tr th {\n",
       "        vertical-align: top;\n",
       "    }\n",
       "\n",
       "    .dataframe thead th {\n",
       "        text-align: right;\n",
       "    }\n",
       "</style>\n",
       "<table border=\"1\" class=\"dataframe\">\n",
       "  <thead>\n",
       "    <tr style=\"text-align: right;\">\n",
       "      <th></th>\n",
       "      <th>age</th>\n",
       "      <th>sex</th>\n",
       "      <th>bp</th>\n",
       "      <th>cholesterol</th>\n",
       "      <th>na_to_k</th>\n",
       "      <th>drug</th>\n",
       "    </tr>\n",
       "  </thead>\n",
       "  <tbody>\n",
       "    <tr>\n",
       "      <th>0</th>\n",
       "      <td>23</td>\n",
       "      <td>F</td>\n",
       "      <td>HIGH</td>\n",
       "      <td>HIGH</td>\n",
       "      <td>25.355</td>\n",
       "      <td>DrugY</td>\n",
       "    </tr>\n",
       "    <tr>\n",
       "      <th>1</th>\n",
       "      <td>47</td>\n",
       "      <td>M</td>\n",
       "      <td>LOW</td>\n",
       "      <td>HIGH</td>\n",
       "      <td>13.093</td>\n",
       "      <td>drugC</td>\n",
       "    </tr>\n",
       "    <tr>\n",
       "      <th>2</th>\n",
       "      <td>47</td>\n",
       "      <td>M</td>\n",
       "      <td>LOW</td>\n",
       "      <td>HIGH</td>\n",
       "      <td>10.114</td>\n",
       "      <td>drugC</td>\n",
       "    </tr>\n",
       "    <tr>\n",
       "      <th>3</th>\n",
       "      <td>28</td>\n",
       "      <td>F</td>\n",
       "      <td>NORMAL</td>\n",
       "      <td>HIGH</td>\n",
       "      <td>7.798</td>\n",
       "      <td>drugX</td>\n",
       "    </tr>\n",
       "    <tr>\n",
       "      <th>4</th>\n",
       "      <td>61</td>\n",
       "      <td>F</td>\n",
       "      <td>LOW</td>\n",
       "      <td>HIGH</td>\n",
       "      <td>18.043</td>\n",
       "      <td>DrugY</td>\n",
       "    </tr>\n",
       "  </tbody>\n",
       "</table>\n",
       "</div>"
      ],
      "text/plain": [
       "   age sex      bp cholesterol  na_to_k   drug\n",
       "0   23   F    HIGH        HIGH   25.355  DrugY\n",
       "1   47   M     LOW        HIGH   13.093  drugC\n",
       "2   47   M     LOW        HIGH   10.114  drugC\n",
       "3   28   F  NORMAL        HIGH    7.798  drugX\n",
       "4   61   F     LOW        HIGH   18.043  DrugY"
      ]
     },
     "execution_count": 4,
     "metadata": {},
     "output_type": "execute_result"
    }
   ],
   "source": [
    "df\n",
    "df.columns=df.columns.map(str.lower)\n",
    "df.head(5)"
   ]
  },
  {
   "cell_type": "code",
   "execution_count": 4,
   "id": "aedc8ce2",
   "metadata": {},
   "outputs": [
    {
     "name": "stdout",
     "output_type": "stream",
     "text": [
      "<class 'pandas.core.frame.DataFrame'>\n",
      "RangeIndex: 200 entries, 0 to 199\n",
      "Data columns (total 6 columns):\n",
      " #   Column       Non-Null Count  Dtype  \n",
      "---  ------       --------------  -----  \n",
      " 0   age          200 non-null    int64  \n",
      " 1   sex          200 non-null    object \n",
      " 2   bp           200 non-null    object \n",
      " 3   cholesterol  200 non-null    object \n",
      " 4   na_to_k      200 non-null    float64\n",
      " 5   drug         200 non-null    object \n",
      "dtypes: float64(1), int64(1), object(4)\n",
      "memory usage: 9.5+ KB\n"
     ]
    }
   ],
   "source": [
    "# check data types, it provides also details on null values, so next checking of null values may not be required\n",
    "df.info()"
   ]
  },
  {
   "cell_type": "code",
   "execution_count": 5,
   "id": "7644df4f",
   "metadata": {},
   "outputs": [
    {
     "data": {
      "text/plain": [
       "age            0\n",
       "sex            0\n",
       "bp             0\n",
       "cholesterol    0\n",
       "na_to_k        0\n",
       "drug           0\n",
       "dtype: int64"
      ]
     },
     "execution_count": 5,
     "metadata": {},
     "output_type": "execute_result"
    }
   ],
   "source": [
    "df.isna().sum()"
   ]
  },
  {
   "cell_type": "code",
   "execution_count": 6,
   "id": "8b159feb",
   "metadata": {},
   "outputs": [
    {
     "data": {
      "text/plain": [
       "age              int64\n",
       "sex             object\n",
       "bp              object\n",
       "cholesterol     object\n",
       "na_to_k        float64\n",
       "drug            object\n",
       "dtype: object"
      ]
     },
     "execution_count": 6,
     "metadata": {},
     "output_type": "execute_result"
    }
   ],
   "source": [
    "df.dtypes"
   ]
  },
  {
   "cell_type": "code",
   "execution_count": 7,
   "id": "37376a8b",
   "metadata": {},
   "outputs": [
    {
     "data": {
      "text/plain": [
       "<bound method DataFrame.info of      age sex      bp cholesterol  na_to_k   drug\n",
       "0     23   F    HIGH        HIGH   25.355  DrugY\n",
       "1     47   M     LOW        HIGH   13.093  drugC\n",
       "2     47   M     LOW        HIGH   10.114  drugC\n",
       "3     28   F  NORMAL        HIGH    7.798  drugX\n",
       "4     61   F     LOW        HIGH   18.043  DrugY\n",
       "..   ...  ..     ...         ...      ...    ...\n",
       "195   56   F     LOW        HIGH   11.567  drugC\n",
       "196   16   M     LOW        HIGH   12.006  drugC\n",
       "197   52   M  NORMAL        HIGH    9.894  drugX\n",
       "198   23   M  NORMAL      NORMAL   14.020  drugX\n",
       "199   40   F     LOW      NORMAL   11.349  drugX\n",
       "\n",
       "[200 rows x 6 columns]>"
      ]
     },
     "execution_count": 7,
     "metadata": {},
     "output_type": "execute_result"
    }
   ],
   "source": [
    "df.info"
   ]
  },
  {
   "cell_type": "markdown",
   "id": "73c79956",
   "metadata": {},
   "source": [
    "#now we have to check no of types present in each columns"
   ]
  },
  {
   "cell_type": "code",
   "execution_count": 8,
   "id": "314af36d",
   "metadata": {},
   "outputs": [
    {
     "data": {
      "text/plain": [
       "sex\n",
       "M    104\n",
       "F     96\n",
       "Name: count, dtype: int64"
      ]
     },
     "execution_count": 8,
     "metadata": {},
     "output_type": "execute_result"
    }
   ],
   "source": [
    "df[\"sex\"].value_counts()"
   ]
  },
  {
   "cell_type": "code",
   "execution_count": null,
   "id": "215800fd",
   "metadata": {},
   "outputs": [],
   "source": []
  },
  {
   "cell_type": "code",
   "execution_count": 9,
   "id": "ff394ad4",
   "metadata": {},
   "outputs": [
    {
     "data": {
      "text/plain": [
       "bp\n",
       "HIGH      77\n",
       "LOW       64\n",
       "NORMAL    59\n",
       "Name: count, dtype: int64"
      ]
     },
     "execution_count": 9,
     "metadata": {},
     "output_type": "execute_result"
    }
   ],
   "source": [
    "df[\"bp\"].value_counts()"
   ]
  },
  {
   "cell_type": "code",
   "execution_count": 10,
   "id": "d280e0c0",
   "metadata": {},
   "outputs": [
    {
     "data": {
      "text/plain": [
       "cholesterol\n",
       "HIGH      103\n",
       "NORMAL     97\n",
       "Name: count, dtype: int64"
      ]
     },
     "execution_count": 10,
     "metadata": {},
     "output_type": "execute_result"
    }
   ],
   "source": [
    "df[\"cholesterol\"].value_counts()"
   ]
  },
  {
   "cell_type": "code",
   "execution_count": 11,
   "id": "0321cfdf",
   "metadata": {},
   "outputs": [
    {
     "data": {
      "text/plain": [
       "drug\n",
       "DrugY    91\n",
       "drugX    54\n",
       "drugA    23\n",
       "drugC    16\n",
       "drugB    16\n",
       "Name: count, dtype: int64"
      ]
     },
     "execution_count": 11,
     "metadata": {},
     "output_type": "execute_result"
    }
   ],
   "source": [
    "df[\"drug\"].value_counts()"
   ]
  },
  {
   "cell_type": "markdown",
   "id": "8c03b56b",
   "metadata": {},
   "source": [
    "# Encoding and scaling\n",
    "i will use sklearn library to encode sex,bp and cholesterol and scale numerical values"
   ]
  },
  {
   "cell_type": "code",
   "execution_count": 12,
   "id": "73537790",
   "metadata": {},
   "outputs": [],
   "source": [
    "from sklearn.preprocessing import LabelEncoder"
   ]
  },
  {
   "cell_type": "code",
   "execution_count": 13,
   "id": "6ef3f2c6",
   "metadata": {},
   "outputs": [],
   "source": [
    "le=LabelEncoder()\n",
    "df[\"sex\"]=le.fit_transform(df[\"sex\"])\n",
    "df[\"bp\"]=le.fit_transform(df[\"bp\"])\n",
    "df[\"cholesterol\"]=le.fit_transform(df[\"cholesterol\"])"
   ]
  },
  {
   "cell_type": "code",
   "execution_count": 14,
   "id": "0a41dd6c",
   "metadata": {},
   "outputs": [
    {
     "data": {
      "text/html": [
       "<div>\n",
       "<style scoped>\n",
       "    .dataframe tbody tr th:only-of-type {\n",
       "        vertical-align: middle;\n",
       "    }\n",
       "\n",
       "    .dataframe tbody tr th {\n",
       "        vertical-align: top;\n",
       "    }\n",
       "\n",
       "    .dataframe thead th {\n",
       "        text-align: right;\n",
       "    }\n",
       "</style>\n",
       "<table border=\"1\" class=\"dataframe\">\n",
       "  <thead>\n",
       "    <tr style=\"text-align: right;\">\n",
       "      <th></th>\n",
       "      <th>age</th>\n",
       "      <th>sex</th>\n",
       "      <th>bp</th>\n",
       "      <th>cholesterol</th>\n",
       "      <th>na_to_k</th>\n",
       "      <th>drug</th>\n",
       "    </tr>\n",
       "  </thead>\n",
       "  <tbody>\n",
       "    <tr>\n",
       "      <th>0</th>\n",
       "      <td>23</td>\n",
       "      <td>0</td>\n",
       "      <td>0</td>\n",
       "      <td>0</td>\n",
       "      <td>25.355</td>\n",
       "      <td>DrugY</td>\n",
       "    </tr>\n",
       "    <tr>\n",
       "      <th>1</th>\n",
       "      <td>47</td>\n",
       "      <td>1</td>\n",
       "      <td>1</td>\n",
       "      <td>0</td>\n",
       "      <td>13.093</td>\n",
       "      <td>drugC</td>\n",
       "    </tr>\n",
       "    <tr>\n",
       "      <th>2</th>\n",
       "      <td>47</td>\n",
       "      <td>1</td>\n",
       "      <td>1</td>\n",
       "      <td>0</td>\n",
       "      <td>10.114</td>\n",
       "      <td>drugC</td>\n",
       "    </tr>\n",
       "    <tr>\n",
       "      <th>3</th>\n",
       "      <td>28</td>\n",
       "      <td>0</td>\n",
       "      <td>2</td>\n",
       "      <td>0</td>\n",
       "      <td>7.798</td>\n",
       "      <td>drugX</td>\n",
       "    </tr>\n",
       "    <tr>\n",
       "      <th>4</th>\n",
       "      <td>61</td>\n",
       "      <td>0</td>\n",
       "      <td>1</td>\n",
       "      <td>0</td>\n",
       "      <td>18.043</td>\n",
       "      <td>DrugY</td>\n",
       "    </tr>\n",
       "  </tbody>\n",
       "</table>\n",
       "</div>"
      ],
      "text/plain": [
       "   age  sex  bp  cholesterol  na_to_k   drug\n",
       "0   23    0   0            0   25.355  DrugY\n",
       "1   47    1   1            0   13.093  drugC\n",
       "2   47    1   1            0   10.114  drugC\n",
       "3   28    0   2            0    7.798  drugX\n",
       "4   61    0   1            0   18.043  DrugY"
      ]
     },
     "execution_count": 14,
     "metadata": {},
     "output_type": "execute_result"
    }
   ],
   "source": [
    "df.head()"
   ]
  },
  {
   "cell_type": "code",
   "execution_count": 15,
   "id": "c75c2d65",
   "metadata": {},
   "outputs": [
    {
     "data": {
      "text/plain": [
       "<Axes: xlabel='sex'>"
      ]
     },
     "execution_count": 15,
     "metadata": {},
     "output_type": "execute_result"
    },
    {
     "data": {
      "image/png": "[encoded data removed]",
      "text/plain": [
       "<Figure size 640x480 with 1 Axes>"
      ]
     },
     "metadata": {},
     "output_type": "display_data"
    }
   ],
   "source": [
    "pd.crosstab(df.sex,df.drug).plot(kind=\"bar\")"
   ]
  },
  {
   "cell_type": "markdown",
   "id": "12a2d5aa",
   "metadata": {},
   "source": [
    "# sepatate the datset into x and y\n"
   ]
  },
  {
   "cell_type": "code",
   "execution_count": 16,
   "id": "499c8294",
   "metadata": {},
   "outputs": [
    {
     "name": "stdout",
     "output_type": "stream",
     "text": [
      "     age  sex  bp  cholesterol  na_to_k\n",
      "0     23    0   0            0   25.355\n",
      "1     47    1   1            0   13.093\n",
      "2     47    1   1            0   10.114\n",
      "3     28    0   2            0    7.798\n",
      "4     61    0   1            0   18.043\n",
      "..   ...  ...  ..          ...      ...\n",
      "195   56    0   1            0   11.567\n",
      "196   16    1   1            0   12.006\n",
      "197   52    1   2            0    9.894\n",
      "198   23    1   2            1   14.020\n",
      "199   40    0   1            1   11.349\n",
      "\n",
      "[200 rows x 5 columns]\n"
     ]
    }
   ],
   "source": [
    "x=df.iloc[:,:5]\n",
    "print(x)"
   ]
  },
  {
   "cell_type": "code",
   "execution_count": 17,
   "id": "60b9ccd9",
   "metadata": {},
   "outputs": [
    {
     "name": "stdout",
     "output_type": "stream",
     "text": [
      "0      DrugY\n",
      "1      drugC\n",
      "2      drugC\n",
      "3      drugX\n",
      "4      DrugY\n",
      "       ...  \n",
      "195    drugC\n",
      "196    drugC\n",
      "197    drugX\n",
      "198    drugX\n",
      "199    drugX\n",
      "Name: drug, Length: 200, dtype: object\n"
     ]
    }
   ],
   "source": [
    "y=df[\"drug\"]\n",
    "print(y)"
   ]
  },
  {
   "cell_type": "markdown",
   "id": "b2771a94",
   "metadata": {},
   "source": [
    "# Split data for modeling\n",
    "This is very needed in order to be able to compare performance of model on unseen data. I will choose test size to be 0.20 Dataset is also split to X (features) and y (target) variables."
   ]
  },
  {
   "cell_type": "code",
   "execution_count": 18,
   "id": "7a54a981",
   "metadata": {},
   "outputs": [
    {
     "name": "stdout",
     "output_type": "stream",
     "text": [
      "Train set: (160, 5) (160,)\n",
      "Test set: (40, 5) (40,)\n"
     ]
    }
   ],
   "source": [
    "from sklearn.model_selection import train_test_split\n",
    "x_train,x_test,y_train,y_test=train_test_split(x,y,test_size=0.2,random_state=0)\n",
    "print ('Train set:', x_train.shape,  y_train.shape)\n",
    "print ('Test set:', x_test.shape,  y_test.shape)"
   ]
  },
  {
   "cell_type": "markdown",
   "id": "73a8c163",
   "metadata": {},
   "source": [
    "# feature scaling"
   ]
  },
  {
   "cell_type": "code",
   "execution_count": 19,
   "id": "c9b2056e",
   "metadata": {},
   "outputs": [],
   "source": [
    "from sklearn.preprocessing import StandardScaler\n",
    "sc=StandardScaler()\n",
    "x_train=sc.fit_transform(x_train)\n",
    "x_test=sc.transform(x_test)"
   ]
  },
  {
   "cell_type": "code",
   "execution_count": 20,
   "id": "87fcd490",
   "metadata": {},
   "outputs": [
    {
     "name": "stdout",
     "output_type": "stream",
     "text": [
      "[[-1.82964966e-01 -1.06458129e+00 -1.05481901e+00 -9.27612590e-01\n",
      "   6.89673485e-01]\n",
      " [-9.66024903e-01  9.39336437e-01 -1.05481901e+00 -9.27612590e-01\n",
      "  -4.49466986e-01]\n",
      " [-8.45554143e-01  9.39336437e-01 -1.05481901e+00 -9.27612590e-01\n",
      "   1.98896207e+00]\n",
      " [ 1.20244877e+00 -1.06458129e+00  1.68159552e-01  1.07803625e+00\n",
      "  -3.22323313e-01]\n",
      " [ 3.59153452e-01 -1.06458129e+00  1.68159552e-01  1.07803625e+00\n",
      "   9.63596384e-01]\n",
      " [-2.25882674e-03  9.39336437e-01  1.68159552e-01  1.07803625e+00\n",
      "  -1.07418388e+00]\n",
      " [ 9.01271870e-01  9.39336437e-01  1.39113811e+00 -9.27612590e-01\n",
      "  -1.27081877e-01]\n",
      " [-1.14673104e+00  9.39336437e-01  1.68159552e-01  1.07803625e+00\n",
      "   6.71987564e-01]\n",
      " [-7.85318764e-01 -1.06458129e+00 -1.05481901e+00  1.07803625e+00\n",
      "  -8.06527643e-01]\n",
      " [ 1.74456719e+00  9.39336437e-01 -1.05481901e+00  1.07803625e+00\n",
      "  -9.01781824e-02]\n",
      " [-1.02626028e+00 -1.06458129e+00  1.39113811e+00 -9.27612590e-01\n",
      "   5.00141678e-01]\n",
      " [ 4.79624211e-01 -1.06458129e+00 -1.05481901e+00  1.07803625e+00\n",
      "  -4.99739567e-01]\n",
      " [-1.62861408e+00 -1.06458129e+00 -1.05481901e+00 -9.27612590e-01\n",
      "   2.93898851e+00]\n",
      " [ 6.60330351e-01 -1.06458129e+00 -1.05481901e+00 -9.27612590e-01\n",
      "   1.29670445e+00]\n",
      " [-1.38767256e+00  9.39336437e-01  1.68159552e-01 -9.27612590e-01\n",
      "  -1.10468165e+00]\n",
      " [-7.25083384e-01 -1.06458129e+00  1.68159552e-01 -9.27612590e-01\n",
      "   2.42345085e+00]\n",
      " [-1.62861408e+00 -1.06458129e+00  1.39113811e+00  1.07803625e+00\n",
      "  -1.02126537e+00]\n",
      " [-9.05789523e-01 -1.06458129e+00  1.39113811e+00 -9.27612590e-01\n",
      "  -7.85499500e-01]\n",
      " [ 1.68433181e+00 -1.06458129e+00  1.39113811e+00 -9.27612590e-01\n",
      "   4.36917989e-01]\n",
      " [ 1.20244877e+00  9.39336437e-01 -1.05481901e+00  1.07803625e+00\n",
      "  -6.60583974e-01]\n",
      " [ 4.19388832e-01  9.39336437e-01  1.68159552e-01  1.07803625e+00\n",
      "   2.34490865e+00]\n",
      " [ 7.80801110e-01 -1.06458129e+00  1.68159552e-01 -9.27612590e-01\n",
      "   3.08646403e+00]\n",
      " [ 8.41036490e-01 -1.06458129e+00  1.39113811e+00 -9.27612590e-01\n",
      "  -3.06308502e-01]\n",
      " [-7.85318764e-01 -1.06458129e+00 -1.05481901e+00  1.07803625e+00\n",
      "   1.37733555e+00]\n",
      " [ 1.62409643e+00 -1.06458129e+00  1.68159552e-01  1.07803625e+00\n",
      "  -2.00750008e-01]\n",
      " [-9.66024903e-01 -1.06458129e+00 -1.05481901e+00 -9.27612590e-01\n",
      "   1.86140062e+00]\n",
      " [ 1.38315491e+00 -1.06458129e+00 -1.05481901e+00  1.07803625e+00\n",
      "  -8.20871343e-01]\n",
      " [-1.44790794e+00 -1.06458129e+00 -1.05481901e+00  1.07803625e+00\n",
      "   1.74748657e+00]\n",
      " [ 1.32291953e+00  9.39336437e-01  1.39113811e+00  1.07803625e+00\n",
      "  -7.22136552e-01]\n",
      " [ 3.59153452e-01 -1.06458129e+00  1.39113811e+00 -9.27612590e-01\n",
      "  -3.46275900e-01]\n",
      " [ 1.44339029e+00 -1.06458129e+00  1.39113811e+00 -9.27612590e-01\n",
      "  -8.38139487e-01]\n",
      " [ 1.02174263e+00  9.39336437e-01  1.39113811e+00 -9.27612590e-01\n",
      "   7.10840017e-02]\n",
      " [-6.04612624e-01 -1.06458129e+00 -1.05481901e+00 -9.27612590e-01\n",
      "  -4.44175136e-01]\n",
      " [-2.25882674e-03 -1.06458129e+00 -1.05481901e+00 -9.27612590e-01\n",
      "  -4.49745505e-01]\n",
      " [-3.63671105e-01  9.39336437e-01 -1.05481901e+00 -9.27612590e-01\n",
      "  -8.93982437e-01]\n",
      " [ 2.98918072e-01 -1.06458129e+00  1.39113811e+00  1.07803625e+00\n",
      "   1.57006944e-01]\n",
      " [-1.32743718e+00  9.39336437e-01  1.39113811e+00 -9.27612590e-01\n",
      "   1.06734364e-01]\n",
      " [ 2.98918072e-01 -1.06458129e+00  1.39113811e+00 -9.27612590e-01\n",
      "  -4.70773648e-01]\n",
      " [ 2.38682692e-01 -1.06458129e+00  1.39113811e+00  1.07803625e+00\n",
      "  -9.33392798e-01]\n",
      " [ 1.14221339e+00 -1.06458129e+00  1.68159552e-01  1.07803625e+00\n",
      "   1.34488815e+00]\n",
      " [ 1.18211933e-01  9.39336437e-01 -1.05481901e+00 -9.27612590e-01\n",
      "  -7.91069869e-01]\n",
      " [-4.84141865e-01 -1.06458129e+00 -1.05481901e+00 -9.27612590e-01\n",
      "  -4.16741068e-01]\n",
      " [ 3.59153452e-01  9.39336437e-01 -1.05481901e+00  1.07803625e+00\n",
      "  -6.60166196e-01]\n",
      " [ 6.60330351e-01 -1.06458129e+00  1.68159552e-01 -9.27612590e-01\n",
      "  -6.28972129e-01]\n",
      " [ 1.62409643e+00  9.39336437e-01 -1.05481901e+00  1.07803625e+00\n",
      "  -8.92172067e-01]\n",
      " [ 1.32291953e+00  9.39336437e-01  1.68159552e-01  1.07803625e+00\n",
      "   6.41907571e-01]\n",
      " [ 1.18211933e-01  9.39336437e-01  1.68159552e-01 -9.27612590e-01\n",
      "  -8.31315785e-01]\n",
      " [-6.64848004e-01  9.39336437e-01 -1.05481901e+00 -9.27612590e-01\n",
      "   3.64781710e-01]\n",
      " [ 6.00094971e-01 -1.06458129e+00 -1.05481901e+00 -9.27612590e-01\n",
      "  -7.11135073e-01]\n",
      " [ 4.19388832e-01  9.39336437e-01  1.39113811e+00 -9.27612590e-01\n",
      "  -8.61952815e-01]\n",
      " [-1.32743718e+00  9.39336437e-01  1.39113811e+00 -9.27612590e-01\n",
      "  -5.32465485e-01]\n",
      " [ 1.18211933e-01 -1.06458129e+00  1.68159552e-01 -9.27612590e-01\n",
      "  -6.01120284e-01]\n",
      " [ 5.79765530e-02 -1.06458129e+00 -1.05481901e+00 -9.27612590e-01\n",
      "   2.59056193e+00]\n",
      " [-2.43200346e-01 -1.06458129e+00  1.39113811e+00  1.07803625e+00\n",
      "   9.49948979e-01]\n",
      " [-1.74908484e+00  9.39336437e-01  1.68159552e-01 -9.27612590e-01\n",
      "  -5.67837329e-01]\n",
      " [-3.63671105e-01  9.39336437e-01  1.39113811e+00 -9.27612590e-01\n",
      "  -1.59530148e-02]\n",
      " [ 1.68433181e+00 -1.06458129e+00 -1.05481901e+00 -9.27612590e-01\n",
      "   3.15344685e-01]\n",
      " [ 1.26268415e+00  9.39336437e-01 -1.05481901e+00 -9.27612590e-01\n",
      "   3.66869728e-02]\n",
      " [-1.82964966e-01 -1.06458129e+00  1.68159552e-01  1.07803625e+00\n",
      "   1.83647321e+00]\n",
      " [-6.04612624e-01  9.39336437e-01  1.68159552e-01  1.07803625e+00\n",
      "  -9.62776495e-01]\n",
      " [ 8.41036490e-01 -1.06458129e+00  1.68159552e-01 -9.27612590e-01\n",
      "  -7.85360240e-01]\n",
      " [-1.32743718e+00  9.39336437e-01 -1.05481901e+00 -9.27612590e-01\n",
      "  -1.12417794e+00]\n",
      " [ 7.80801110e-01 -1.06458129e+00 -1.05481901e+00 -9.27612590e-01\n",
      "   4.64073539e-01]\n",
      " [-1.32743718e+00 -1.06458129e+00 -1.05481901e+00 -9.27612590e-01\n",
      "   1.29113408e+00]\n",
      " [ 6.60330351e-01  9.39336437e-01  1.68159552e-01 -9.27612590e-01\n",
      "  -1.48806317e-01]\n",
      " [ 2.98918072e-01  9.39336437e-01 -1.05481901e+00 -9.27612590e-01\n",
      "  -1.19673200e+00]\n",
      " [-5.44377245e-01  9.39336437e-01  1.68159552e-01  1.07803625e+00\n",
      "  -6.48886199e-01]\n",
      " [ 9.01271870e-01 -1.06458129e+00 -1.05481901e+00 -9.27612590e-01\n",
      "  -3.87218112e-01]\n",
      " [ 7.20565730e-01 -1.06458129e+00  1.39113811e+00 -9.27612590e-01\n",
      "  -2.60074439e-01]\n",
      " [ 7.80801110e-01 -1.06458129e+00 -1.05481901e+00  1.07803625e+00\n",
      "  -2.56871476e-01]\n",
      " [-1.62861408e+00 -1.06458129e+00 -1.05481901e+00  1.07803625e+00\n",
      "   1.14087338e+00]\n",
      " [-1.02626028e+00 -1.06458129e+00  1.68159552e-01 -9.27612590e-01\n",
      "   5.16992045e-01]\n",
      " [-1.32743718e+00  9.39336437e-01  1.39113811e+00 -9.27612590e-01\n",
      "   2.17278425e+00]\n",
      " [ 8.41036490e-01  9.39336437e-01 -1.05481901e+00 -9.27612590e-01\n",
      "  -2.99206281e-01]\n",
      " [ 1.74456719e+00 -1.06458129e+00  1.68159552e-01 -9.27612590e-01\n",
      "   6.76583118e-01]\n",
      " [ 7.20565730e-01 -1.06458129e+00 -1.05481901e+00  1.07803625e+00\n",
      "  -8.54850594e-01]\n",
      " [ 1.78447313e-01 -1.06458129e+00  1.68159552e-01 -9.27612590e-01\n",
      "  -1.45881873e-01]\n",
      " [ 1.50362567e+00  9.39336437e-01 -1.05481901e+00 -9.27612590e-01\n",
      "  -8.68219480e-01]\n",
      " [ 1.74456719e+00  9.39336437e-01  1.68159552e-01  1.07803625e+00\n",
      "  -5.77167697e-01]\n",
      " [ 7.20565730e-01  9.39336437e-01  1.68159552e-01  1.07803625e+00\n",
      "   4.23966881e-01]\n",
      " [-1.74908484e+00 -1.06458129e+00 -1.05481901e+00  1.07803625e+00\n",
      "  -7.90374443e-02]\n",
      " [-1.56837870e+00 -1.06458129e+00 -1.05481901e+00 -9.27612590e-01\n",
      "  -3.85825520e-01]\n",
      " [-1.38767256e+00  9.39336437e-01 -1.05481901e+00  1.07803625e+00\n",
      "   1.70041695e+00]\n",
      " [ 1.02174263e+00  9.39336437e-01  1.68159552e-01  1.07803625e+00\n",
      "   1.54569995e+00]\n",
      " [-8.45554143e-01  9.39336437e-01 -1.05481901e+00  1.07803625e+00\n",
      "  -5.86637324e-01]\n",
      " [-5.44377245e-01 -1.06458129e+00 -1.05481901e+00 -9.27612590e-01\n",
      "  -6.80358784e-01]\n",
      " [-1.02626028e+00 -1.06458129e+00  1.39113811e+00 -9.27612590e-01\n",
      "  -1.15384015e+00]\n",
      " [ 1.32291953e+00  9.39336437e-01  1.39113811e+00  1.07803625e+00\n",
      "  -9.14871321e-01]\n",
      " [-1.74908484e+00  9.39336437e-01 -1.05481901e+00  1.07803625e+00\n",
      "   4.07116515e-01]\n",
      " [-1.32743718e+00  9.39336437e-01  1.39113811e+00  1.07803625e+00\n",
      "  -2.87369247e-01]\n",
      " [ 2.38682692e-01 -1.06458129e+00  1.39113811e+00 -9.27612590e-01\n",
      "   2.66603085e-02]\n",
      " [ 5.39859591e-01  9.39336437e-01  1.39113811e+00 -9.27612590e-01\n",
      "   1.19407040e+00]\n",
      " [ 1.18211933e-01 -1.06458129e+00  1.68159552e-01 -9.27612590e-01\n",
      "  -8.37860969e-01]\n",
      " [-1.80932022e+00  9.39336437e-01 -1.05481901e+00  1.07803625e+00\n",
      "   1.56310648e-01]\n",
      " [ 2.38682692e-01  9.39336437e-01  1.68159552e-01 -9.27612590e-01\n",
      "  -7.72409132e-01]\n",
      " [-2.25882674e-03  9.39336437e-01  1.68159552e-01  1.07803625e+00\n",
      "  -8.44823930e-01]\n",
      " [-8.45554143e-01  9.39336437e-01 -1.05481901e+00  1.07803625e+00\n",
      "  -6.76320266e-01]\n",
      " [-2.43200346e-01  9.39336437e-01 -1.05481901e+00  1.07803625e+00\n",
      "  -1.29170766e-01]\n",
      " [-3.03435726e-01 -1.06458129e+00  1.68159552e-01  1.07803625e+00\n",
      "  -6.59330641e-01]\n",
      " [-6.64848004e-01 -1.06458129e+00 -1.05481901e+00  1.07803625e+00\n",
      "   4.33854286e-01]\n",
      " [ 9.61507249e-01 -1.06458129e+00 -1.05481901e+00 -9.27612590e-01\n",
      "   1.30784519e+00]\n",
      " [-1.02626028e+00 -1.06458129e+00  1.68159552e-01 -9.27612590e-01\n",
      "  -4.11727736e-01]\n",
      " [ 5.79765530e-02  9.39336437e-01  1.39113811e+00  1.07803625e+00\n",
      "  -1.22528014e+00]\n",
      " [-3.03435726e-01  9.39336437e-01 -1.05481901e+00 -9.27612590e-01\n",
      "   1.63524363e+00]\n",
      " [ 1.38315491e+00 -1.06458129e+00  1.39113811e+00  1.07803625e+00\n",
      "   1.52717847e+00]\n",
      " [ 1.18211933e-01  9.39336437e-01  1.68159552e-01 -9.27612590e-01\n",
      "  -4.16462550e-01]\n",
      " [-1.02626028e+00  9.39336437e-01  1.39113811e+00 -9.27612590e-01\n",
      "   1.52912810e+00]\n",
      " [-1.22729586e-01  9.39336437e-01  1.39113811e+00  1.07803625e+00\n",
      "  -4.49049209e-01]\n",
      " [ 2.98918072e-01  9.39336437e-01  1.39113811e+00  1.07803625e+00\n",
      "  -4.08804163e-02]\n",
      " [-4.84141865e-01  9.39336437e-01  1.68159552e-01  1.07803625e+00\n",
      "  -9.90906859e-01]\n",
      " [ 2.38682692e-01  9.39336437e-01  1.68159552e-01  1.07803625e+00\n",
      "  -3.46136640e-01]\n",
      " [-2.43200346e-01 -1.06458129e+00  1.68159552e-01  1.07803625e+00\n",
      "   3.69795042e-01]\n",
      " [-1.22729586e-01  9.39336437e-01 -1.05481901e+00 -9.27612590e-01\n",
      "  -2.94053690e-01]\n",
      " [-3.63671105e-01 -1.06458129e+00  1.39113811e+00  1.07803625e+00\n",
      "  -8.87715772e-01]\n",
      " [-1.26720180e+00  9.39336437e-01  1.39113811e+00 -9.27612590e-01\n",
      "   1.35115481e+00]\n",
      " [-1.26720180e+00 -1.06458129e+00 -1.05481901e+00  1.07803625e+00\n",
      "   3.30523940e-01]\n",
      " [ 4.79624211e-01  9.39336437e-01  1.68159552e-01 -9.27612590e-01\n",
      "   9.58026014e-01]\n",
      " [ 1.18211933e-01  9.39336437e-01  1.68159552e-01  1.07803625e+00\n",
      "   2.43124937e+00]\n",
      " [ 4.79624211e-01  9.39336437e-01  1.39113811e+00 -9.27612590e-01\n",
      "  -2.71632954e-01]\n",
      " [-3.63671105e-01 -1.06458129e+00  1.68159552e-01  1.07803625e+00\n",
      "   9.20983060e-01]\n",
      " [-1.50814332e+00 -1.06458129e+00  1.39113811e+00  1.07803625e+00\n",
      "  -9.47318721e-01]\n",
      " [ 1.38315491e+00  9.39336437e-01 -1.05481901e+00 -9.27612590e-01\n",
      "  -7.06678778e-01]\n",
      " [ 1.74456719e+00  9.39336437e-01 -1.05481901e+00 -9.27612590e-01\n",
      "  -9.07490582e-01]\n",
      " [ 7.80801110e-01 -1.06458129e+00  1.68159552e-01 -9.27612590e-01\n",
      "   1.47077849e+00]\n",
      " [-6.04612624e-01  9.39336437e-01  1.39113811e+00  1.07803625e+00\n",
      "  -1.14729497e+00]\n",
      " [ 1.78447313e-01  9.39336437e-01 -1.05481901e+00  1.07803625e+00\n",
      "  -7.85081722e-01]\n",
      " [ 2.38682692e-01  9.39336437e-01  1.68159552e-01  1.07803625e+00\n",
      "  -7.05982481e-01]\n",
      " [ 9.01271870e-01  9.39336437e-01 -1.05481901e+00  1.07803625e+00\n",
      "  -1.03922981e+00]\n",
      " [-1.50814332e+00 -1.06458129e+00 -1.05481901e+00 -9.27612590e-01\n",
      "  -6.71446193e-01]\n",
      " [-1.14673104e+00 -1.06458129e+00 -1.05481901e+00  1.07803625e+00\n",
      "  -5.25920302e-01]\n",
      " [-2.25882674e-03  9.39336437e-01  1.68159552e-01 -9.27612590e-01\n",
      "   2.60058772e-01]\n",
      " [-1.80932022e+00 -1.06458129e+00 -1.05481901e+00  1.07803625e+00\n",
      "   8.93269604e-02]\n",
      " [-7.85318764e-01 -1.06458129e+00  1.68159552e-01 -9.27612590e-01\n",
      "  -8.87297994e-01]\n",
      " [-7.85318764e-01 -1.06458129e+00  1.68159552e-01  1.07803625e+00\n",
      "  -7.30213587e-01]\n",
      " [ 3.59153452e-01  9.39336437e-01 -1.05481901e+00 -9.27612590e-01\n",
      "   3.07963946e-01]\n",
      " [ 9.61507249e-01 -1.06458129e+00  1.68159552e-01  1.07803625e+00\n",
      "  -1.21762088e+00]\n",
      " [ 1.62409643e+00  9.39336437e-01  1.68159552e-01 -9.27612590e-01\n",
      "  -1.29713790e+00]\n",
      " [-1.26720180e+00 -1.06458129e+00  1.39113811e+00 -9.27612590e-01\n",
      "  -7.62939505e-01]\n",
      " [-1.14673104e+00 -1.06458129e+00 -1.05481901e+00  1.07803625e+00\n",
      "   4.28562436e-01]\n",
      " [-1.02626028e+00 -1.06458129e+00 -1.05481901e+00  1.07803625e+00\n",
      "   3.79543188e-01]\n",
      " [-4.23906485e-01  9.39336437e-01  1.68159552e-01 -9.27612590e-01\n",
      "   3.07963946e-01]\n",
      " [ 1.14221339e+00  9.39336437e-01  1.39113811e+00 -9.27612590e-01\n",
      "  -1.15899274e+00]\n",
      " [ 1.20244877e+00  9.39336437e-01 -1.05481901e+00  1.07803625e+00\n",
      "   2.63387154e+00]\n",
      " [-1.82964966e-01  9.39336437e-01 -1.05481901e+00  1.07803625e+00\n",
      "  -4.62000317e-01]\n",
      " [ 7.80801110e-01  9.39336437e-01 -1.05481901e+00 -9.27612590e-01\n",
      "   4.04888367e-01]\n",
      " [-1.80932022e+00  9.39336437e-01  1.39113811e+00 -9.27612590e-01\n",
      "  -9.74752788e-01]\n",
      " [ 9.01271870e-01  9.39336437e-01  1.39113811e+00  1.07803625e+00\n",
      "  -8.34518747e-01]\n",
      " [ 2.38682692e-01  9.39336437e-01 -1.05481901e+00  1.07803625e+00\n",
      "  -1.36676751e+00]\n",
      " [-4.84141865e-01 -1.06458129e+00 -1.05481901e+00  1.07803625e+00\n",
      "   9.75851195e-01]\n",
      " [ 1.50362567e+00  9.39336437e-01 -1.05481901e+00 -9.27612590e-01\n",
      "  -2.94749986e-01]\n",
      " [ 1.44339029e+00  9.39336437e-01  1.68159552e-01 -9.27612590e-01\n",
      "  -8.43292949e-02]\n",
      " [-7.85318764e-01  9.39336437e-01 -1.05481901e+00  1.07803625e+00\n",
      "  -9.24480208e-01]\n",
      " [ 1.08197801e+00  9.39336437e-01  1.39113811e+00 -9.27612590e-01\n",
      "   1.36939777e+00]\n",
      " [-1.22729586e-01  9.39336437e-01  1.68159552e-01  1.07803625e+00\n",
      "   4.57389096e-01]\n",
      " [ 6.60330351e-01  9.39336437e-01  1.39113811e+00 -9.27612590e-01\n",
      "  -9.91185377e-01]\n",
      " [-1.68884946e+00  9.39336437e-01  1.39113811e+00  1.07803625e+00\n",
      "  -7.31327661e-01]\n",
      " [ 1.62409643e+00  9.39336437e-01  1.68159552e-01 -9.27612590e-01\n",
      "   3.15343814e-02]\n",
      " [-3.03435726e-01 -1.06458129e+00  1.39113811e+00 -9.27612590e-01\n",
      "  -8.32847637e-01]\n",
      " [ 1.38315491e+00  9.39336437e-01  1.68159552e-01 -9.27612590e-01\n",
      "  -8.06666902e-01]\n",
      " [-3.63671105e-01 -1.06458129e+00  1.39113811e+00  1.07803625e+00\n",
      "   1.58956574e-01]]\n"
     ]
    }
   ],
   "source": [
    "print(x_train)"
   ]
  },
  {
   "cell_type": "code",
   "execution_count": 21,
   "id": "abaa5c7a",
   "metadata": {},
   "outputs": [
    {
     "name": "stdout",
     "output_type": "stream",
     "text": [
      "[[-1.32743718  0.93933644  0.16815955 -0.92761259 -1.22346977]\n",
      " [-1.02626028 -1.06458129  1.39113811 -0.92761259 -0.44626402]\n",
      " [-0.18296497  0.93933644  0.16815955 -0.92761259  0.5472113 ]\n",
      " [-1.50814332  0.93933644 -1.05481901  1.07803625  2.72327597]\n",
      " [-1.20696642  0.93933644  1.39113811 -0.92761259  0.40767355]\n",
      " [-1.50814332 -1.06458129  0.16815955  1.07803625 -0.61240028]\n",
      " [-1.38767256 -1.06458129  1.39113811 -0.92761259 -1.04117944]\n",
      " [-0.48414186 -1.06458129  0.16815955  1.07803625 -0.56783733]\n",
      " [-0.12272959  0.93933644  0.16815955 -0.92761259 -0.09853374]\n",
      " [ 0.60009497  0.93933644  1.39113811  1.07803625 -1.22862236]\n",
      " [-1.2672018   0.93933644 -1.05481901  1.07803625 -0.92030243]\n",
      " [-1.5683787  -1.06458129 -1.05481901  1.07803625  1.37663925]\n",
      " [-1.38767256 -1.06458129 -1.05481901  1.07803625  0.93783343]\n",
      " [-0.48414186  0.93933644  0.16815955  1.07803625  0.0891877 ]\n",
      " [ 0.90127187  0.93933644 -1.05481901 -0.92761259 -0.29934554]\n",
      " [-0.24320035  0.93933644  0.16815955 -0.92761259 -0.70277952]\n",
      " [ 1.20244877 -1.06458129 -1.05481901  1.07803625  2.1992435 ]\n",
      " [ 1.50362567 -1.06458129  1.39113811 -0.92761259  0.61349869]\n",
      " [-0.36367111  0.93933644  0.16815955  1.07803625 -0.2987885 ]\n",
      " [-0.84555414  0.93933644 -1.05481901  1.07803625  0.13723213]\n",
      " [-0.54437724 -1.06458129 -1.05481901  1.07803625 -0.08265818]\n",
      " [ 0.96150725  0.93933644  1.39113811 -0.92761259 -0.92475873]\n",
      " [ 1.26268415 -1.06458129  1.39113811  1.07803625 -1.11080905]\n",
      " [-0.664848   -1.06458129  0.16815955  1.07803625 -0.44013662]\n",
      " [-0.42390649 -1.06458129  0.16815955  1.07803625  1.92058579]\n",
      " [-0.54437724 -1.06458129  1.39113811 -0.92761259  0.09322622]\n",
      " [ 1.32291953 -1.06458129  1.39113811 -0.92761259 -0.02681523]\n",
      " [ 0.72056573 -1.06458129  1.39113811  1.07803625  1.36605555]\n",
      " [-0.664848    0.93933644  1.39113811 -0.92761259  0.88742159]\n",
      " [ 0.29891807 -1.06458129  1.39113811  1.07803625 -0.52759141]\n",
      " [ 1.44339029  0.93933644  0.16815955  1.07803625 -0.64456916]\n",
      " [-1.14673104 -1.06458129  0.16815955 -0.92761259 -0.26787296]\n",
      " [ 0.23868269  0.93933644 -1.05481901  1.07803625 -1.02822833]\n",
      " [ 0.11821193 -1.06458129  1.39113811  1.07803625 -1.30911419]\n",
      " [ 0.11821193  0.93933644  0.16815955  1.07803625  2.01709243]\n",
      " [ 1.14221339  0.93933644 -1.05481901  1.07803625  0.67519053]\n",
      " [-0.78531876 -1.06458129  1.39113811 -0.92761259 -1.19854237]\n",
      " [ 0.96150725 -1.06458129  0.16815955 -0.92761259  0.27287062]\n",
      " [-0.42390649 -1.06458129 -1.05481901  1.07803625 -0.6625336 ]\n",
      " [-1.38767256  0.93933644  1.39113811 -0.92761259 -0.57521807]]\n"
     ]
    }
   ],
   "source": [
    "print(x_test)"
   ]
  },
  {
   "cell_type": "markdown",
   "id": "c26bd299",
   "metadata": {},
   "source": [
    "# MODEL SELECTION\n",
    "We will use several popular models and see how they perform on our dataset. At the end we choose 3 best performing models and will merge them together.\n"
   ]
  },
  {
   "cell_type": "code",
   "execution_count": 32,
   "id": "3bc8d926",
   "metadata": {},
   "outputs": [],
   "source": [
    "\n",
    "\n",
    "from sklearn.linear_model import LogisticRegression\n",
    "from sklearn.neighbors import KNeighborsClassifier\n",
    "from sklearn.svm import SVC\n",
    "from sklearn.ensemble import RandomForestClassifier\n",
    "from sklearn.metrics import classification_report, confusion_matrix, roc_auc_score,accuracy_score\n",
    "from sklearn.tree import DecisionTreeClassifier"
   ]
  },
  {
   "cell_type": "markdown",
   "id": "832802c9",
   "metadata": {},
   "source": [
    "# LOGISTIC REGRESSION"
   ]
  },
  {
   "cell_type": "code",
   "execution_count": 33,
   "id": "23d71579",
   "metadata": {},
   "outputs": [
    {
     "data": {
      "text/html": [
       "<style>#sk-container-id-2 {color: black;}#sk-container-id-2 pre{padding: 0;}#sk-container-id-2 div.sk-toggleable {background-color: white;}#sk-container-id-2 label.sk-toggleable__label {cursor: pointer;display: block;width: 100%;margin-bottom: 0;padding: 0.3em;box-sizing: border-box;text-align: center;}#sk-container-id-2 label.sk-toggleable__label-arrow:before {content: \"▸\";float: left;margin-right: 0.25em;color: #696969;}#sk-container-id-2 label.sk-toggleable__label-arrow:hover:before {color: black;}#sk-container-id-2 div.sk-estimator:hover label.sk-toggleable__label-arrow:before {color: black;}#sk-container-id-2 div.sk-toggleable__content {max-height: 0;max-width: 0;overflow: hidden;text-align: left;background-color: #f0f8ff;}#sk-container-id-2 div.sk-toggleable__content pre {margin: 0.2em;color: black;border-radius: 0.25em;background-color: #f0f8ff;}#sk-container-id-2 input.sk-toggleable__control:checked~div.sk-toggleable__content {max-height: 200px;max-width: 100%;overflow: auto;}#sk-container-id-2 input.sk-toggleable__control:checked~label.sk-toggleable__label-arrow:before {content: \"▾\";}#sk-container-id-2 div.sk-estimator input.sk-toggleable__control:checked~label.sk-toggleable__label {background-color: #d4ebff;}#sk-container-id-2 div.sk-label input.sk-toggleable__control:checked~label.sk-toggleable__label {background-color: #d4ebff;}#sk-container-id-2 input.sk-hidden--visually {border: 0;clip: rect(1px 1px 1px 1px);clip: rect(1px, 1px, 1px, 1px);height: 1px;margin: -1px;overflow: hidden;padding: 0;position: absolute;width: 1px;}#sk-container-id-2 div.sk-estimator {font-family: monospace;background-color: #f0f8ff;border: 1px dotted black;border-radius: 0.25em;box-sizing: border-box;margin-bottom: 0.5em;}#sk-container-id-2 div.sk-estimator:hover {background-color: #d4ebff;}#sk-container-id-2 div.sk-parallel-item::after {content: \"\";width: 100%;border-bottom: 1px solid gray;flex-grow: 1;}#sk-container-id-2 div.sk-label:hover label.sk-toggleable__label {background-color: #d4ebff;}#sk-container-id-2 div.sk-serial::before {content: \"\";position: absolute;border-left: 1px solid gray;box-sizing: border-box;top: 0;bottom: 0;left: 50%;z-index: 0;}#sk-container-id-2 div.sk-serial {display: flex;flex-direction: column;align-items: center;background-color: white;padding-right: 0.2em;padding-left: 0.2em;position: relative;}#sk-container-id-2 div.sk-item {position: relative;z-index: 1;}#sk-container-id-2 div.sk-parallel {display: flex;align-items: stretch;justify-content: center;background-color: white;position: relative;}#sk-container-id-2 div.sk-item::before, #sk-container-id-2 div.sk-parallel-item::before {content: \"\";position: absolute;border-left: 1px solid gray;box-sizing: border-box;top: 0;bottom: 0;left: 50%;z-index: -1;}#sk-container-id-2 div.sk-parallel-item {display: flex;flex-direction: column;z-index: 1;position: relative;background-color: white;}#sk-container-id-2 div.sk-parallel-item:first-child::after {align-self: flex-end;width: 50%;}#sk-container-id-2 div.sk-parallel-item:last-child::after {align-self: flex-start;width: 50%;}#sk-container-id-2 div.sk-parallel-item:only-child::after {width: 0;}#sk-container-id-2 div.sk-dashed-wrapped {border: 1px dashed gray;margin: 0 0.4em 0.5em 0.4em;box-sizing: border-box;padding-bottom: 0.4em;background-color: white;}#sk-container-id-2 div.sk-label label {font-family: monospace;font-weight: bold;display: inline-block;line-height: 1.2em;}#sk-container-id-2 div.sk-label-container {text-align: center;}#sk-container-id-2 div.sk-container {/* jupyter's `normalize.less` sets `[hidden] { display: none; }` but bootstrap.min.css set `[hidden] { display: none !important; }` so we also need the `!important` here to be able to override the default hidden behavior on the sphinx rendered scikit-learn.org. See: https://github.com/scikit-learn/scikit-learn/issues/21755 */display: inline-block !important;position: relative;}#sk-container-id-2 div.sk-text-repr-fallback {display: none;}</style><div id=\"sk-container-id-2\" class=\"sk-top-container\"><div class=\"sk-text-repr-fallback\"><pre>LogisticRegression()</pre><b>In a Jupyter environment, please rerun this cell to show the HTML representation or trust the notebook. <br />On GitHub, the HTML representation is unable to render, please try loading this page with nbviewer.org.</b></div><div class=\"sk-container\" hidden><div class=\"sk-item\"><div class=\"sk-estimator sk-toggleable\"><input class=\"sk-toggleable__control sk-hidden--visually\" id=\"sk-estimator-id-2\" type=\"checkbox\" checked><label for=\"sk-estimator-id-2\" class=\"sk-toggleable__label sk-toggleable__label-arrow\">LogisticRegression</label><div class=\"sk-toggleable__content\"><pre>LogisticRegression()</pre></div></div></div></div></div>"
      ],
      "text/plain": [
       "LogisticRegression()"
      ]
     },
     "execution_count": 33,
     "metadata": {},
     "output_type": "execute_result"
    }
   ],
   "source": [
    "lr=LogisticRegression()\n",
    "lr.fit(x_train,y_train)\n"
   ]
  },
  {
   "cell_type": "code",
   "execution_count": 34,
   "id": "95fe7eb9",
   "metadata": {},
   "outputs": [],
   "source": [
    "y_pred=lr.predict(x_test)"
   ]
  },
  {
   "cell_type": "code",
   "execution_count": 35,
   "id": "cc8b1fbb",
   "metadata": {},
   "outputs": [
    {
     "name": "stdout",
     "output_type": "stream",
     "text": [
      "['drugC' 'drugX' 'DrugY' 'DrugY' 'DrugY' 'drugX' 'drugX' 'drugX' 'DrugY'\n",
      " 'drugX' 'drugA' 'DrugY' 'DrugY' 'DrugY' 'drugB' 'drugC' 'DrugY' 'DrugY'\n",
      " 'DrugY' 'DrugY' 'DrugY' 'drugX' 'drugX' 'drugX' 'DrugY' 'DrugY' 'DrugY'\n",
      " 'DrugY' 'DrugY' 'drugX' 'drugX' 'DrugY' 'drugA' 'drugX' 'DrugY' 'DrugY'\n",
      " 'drugX' 'DrugY' 'drugA' 'drugX']\n"
     ]
    }
   ],
   "source": [
    "print(y_pred)"
   ]
  },
  {
   "cell_type": "code",
   "execution_count": 36,
   "id": "8084d36c",
   "metadata": {},
   "outputs": [
    {
     "name": "stdout",
     "output_type": "stream",
     "text": [
      "Logistic regression\n",
      "              precision    recall  f1-score   support\n",
      "\n",
      "       DrugY     0.9048    1.0000    0.9500        19\n",
      "       drugA     1.0000    1.0000    1.0000         3\n",
      "       drugB     1.0000    1.0000    1.0000         1\n",
      "       drugC     1.0000    0.6667    0.8000         3\n",
      "       drugX     1.0000    0.9286    0.9630        14\n",
      "\n",
      "    accuracy                         0.9500        40\n",
      "   macro avg     0.9810    0.9190    0.9426        40\n",
      "weighted avg     0.9548    0.9500    0.9483        40\n",
      "\n"
     ]
    }
   ],
   "source": [
    "print(\"Logistic regression\")\n",
    "print(classification_report(y_test, y_pred,digits=4))"
   ]
  },
  {
   "cell_type": "code",
   "execution_count": 37,
   "id": "1f34041e",
   "metadata": {},
   "outputs": [
    {
     "name": "stdout",
     "output_type": "stream",
     "text": [
      "0.95\n"
     ]
    }
   ],
   "source": [
    "ac=accuracy_score(y_test,y_pred)\n",
    "print(ac)"
   ]
  },
  {
   "cell_type": "code",
   "execution_count": 38,
   "id": "9544390b",
   "metadata": {},
   "outputs": [
    {
     "name": "stdout",
     "output_type": "stream",
     "text": [
      "[[19  0  0  0  0]\n",
      " [ 0  3  0  0  0]\n",
      " [ 0  0  1  0  0]\n",
      " [ 1  0  0  2  0]\n",
      " [ 1  0  0  0 13]]\n"
     ]
    }
   ],
   "source": [
    "cm=confusion_matrix(y_test,y_pred)\n",
    "print(cm)"
   ]
  },
  {
   "cell_type": "markdown",
   "id": "7ce1a8cd",
   "metadata": {},
   "source": [
    "# k neighbour classifier"
   ]
  },
  {
   "cell_type": "code",
   "execution_count": 39,
   "id": "33ffe2e5",
   "metadata": {},
   "outputs": [
    {
     "data": {
      "text/plain": [
       "array(['drugC', 'drugX', 'DrugY', 'DrugY', 'DrugY'], dtype=object)"
      ]
     },
     "execution_count": 39,
     "metadata": {},
     "output_type": "execute_result"
    }
   ],
   "source": [
    "#KNN\n",
    "from sklearn.neighbors import KNeighborsClassifier\n",
    "k =5\n",
    "neigh = KNeighborsClassifier(n_neighbors = k).fit(x_train,y_train)\n",
    "y_pred = neigh.predict(x_test)\n",
    "y_pred[0:5]"
   ]
  },
  {
   "cell_type": "code",
   "execution_count": 40,
   "id": "91d32e0c",
   "metadata": {},
   "outputs": [
    {
     "name": "stdout",
     "output_type": "stream",
     "text": [
      "Train set Accuracy:  0.86875\n",
      "Test set Accuracy:  0.825\n"
     ]
    }
   ],
   "source": [
    "from sklearn import metrics\n",
    "print(\"Train set Accuracy: \", metrics.accuracy_score(y_train, neigh.predict(x_train)))\n",
    "print(\"Test set Accuracy: \", metrics.accuracy_score(y_test, y_pred))"
   ]
  },
  {
   "cell_type": "code",
   "execution_count": 41,
   "id": "83378be8",
   "metadata": {},
   "outputs": [
    {
     "name": "stdout",
     "output_type": "stream",
     "text": [
      " knn\n",
      "              precision    recall  f1-score   support\n",
      "\n",
      "       DrugY     0.9333    0.7368    0.8235        19\n",
      "       drugA     0.6000    1.0000    0.7500         3\n",
      "       drugB     1.0000    1.0000    1.0000         1\n",
      "       drugC     0.7500    1.0000    0.8571         3\n",
      "       drugX     0.8000    0.8571    0.8276        14\n",
      "\n",
      "    accuracy                         0.8250        40\n",
      "   macro avg     0.8167    0.9188    0.8517        40\n",
      "weighted avg     0.8496    0.8250    0.8264        40\n",
      "\n"
     ]
    }
   ],
   "source": [
    "print(\" knn\")\n",
    "print(classification_report(y_test, y_pred,digits=4))"
   ]
  },
  {
   "cell_type": "code",
   "execution_count": 42,
   "id": "2e82274e",
   "metadata": {},
   "outputs": [
    {
     "name": "stdout",
     "output_type": "stream",
     "text": [
      "0.825\n"
     ]
    }
   ],
   "source": [
    "ac=accuracy_score(y_test,y_pred)\n",
    "print(ac)"
   ]
  },
  {
   "cell_type": "code",
   "execution_count": 43,
   "id": "1b8ef39e",
   "metadata": {},
   "outputs": [
    {
     "name": "stdout",
     "output_type": "stream",
     "text": [
      "[[14  1  0  1  3]\n",
      " [ 0  3  0  0  0]\n",
      " [ 0  0  1  0  0]\n",
      " [ 0  0  0  3  0]\n",
      " [ 1  1  0  0 12]]\n"
     ]
    }
   ],
   "source": [
    "cm=confusion_matrix(y_test,y_pred)\n",
    "print(cm)"
   ]
  },
  {
   "cell_type": "markdown",
   "id": "cc9ad7e7",
   "metadata": {},
   "source": [
    "# svm"
   ]
  },
  {
   "cell_type": "code",
   "execution_count": 44,
   "id": "ee6539cb",
   "metadata": {},
   "outputs": [
    {
     "name": "stdout",
     "output_type": "stream",
     "text": [
      "Train set Accuracy:  0.95625\n",
      "Test set Accuracy:  0.975\n"
     ]
    }
   ],
   "source": [
    "\n",
    "svm=SVC()\n",
    "svm.fit(x_train, y_train) \n",
    "y_pred = svm.predict(x_test)\n",
    "print(\"Train set Accuracy: \", metrics.accuracy_score(y_train, svm.predict(x_train)))\n",
    "print(\"Test set Accuracy: \", metrics.accuracy_score(y_test, y_pred))"
   ]
  },
  {
   "cell_type": "code",
   "execution_count": 45,
   "id": "6585ee4e",
   "metadata": {},
   "outputs": [
    {
     "name": "stdout",
     "output_type": "stream",
     "text": [
      "Support Vector Classifier \n",
      "              precision    recall  f1-score   support\n",
      "\n",
      "       DrugY     1.0000    0.9474    0.9730        19\n",
      "       drugA     1.0000    1.0000    1.0000         3\n",
      "       drugB     1.0000    1.0000    1.0000         1\n",
      "       drugC     1.0000    1.0000    1.0000         3\n",
      "       drugX     0.9333    1.0000    0.9655        14\n",
      "\n",
      "    accuracy                         0.9750        40\n",
      "   macro avg     0.9867    0.9895    0.9877        40\n",
      "weighted avg     0.9767    0.9750    0.9751        40\n",
      "\n"
     ]
    }
   ],
   "source": [
    "print(\"Support Vector Classifier \")\n",
    "print(classification_report(y_test, y_pred,digits=4))"
   ]
  },
  {
   "cell_type": "code",
   "execution_count": 46,
   "id": "5b9e0002",
   "metadata": {},
   "outputs": [
    {
     "name": "stdout",
     "output_type": "stream",
     "text": [
      "0.975\n"
     ]
    }
   ],
   "source": [
    "ac=accuracy_score(y_test,y_pred)\n",
    "print(ac)"
   ]
  },
  {
   "cell_type": "code",
   "execution_count": 47,
   "id": "56e1a4c9",
   "metadata": {},
   "outputs": [
    {
     "name": "stdout",
     "output_type": "stream",
     "text": [
      "[[18  0  0  0  1]\n",
      " [ 0  3  0  0  0]\n",
      " [ 0  0  1  0  0]\n",
      " [ 0  0  0  3  0]\n",
      " [ 0  0  0  0 14]]\n"
     ]
    }
   ],
   "source": [
    "cm=confusion_matrix(y_test,y_pred)\n",
    "print(cm)"
   ]
  },
  {
   "cell_type": "markdown",
   "id": "0e8e3c01",
   "metadata": {},
   "source": [
    "# decision tree"
   ]
  },
  {
   "cell_type": "code",
   "execution_count": 48,
   "id": "d3f152e2",
   "metadata": {},
   "outputs": [
    {
     "name": "stdout",
     "output_type": "stream",
     "text": [
      "Train set Accuracy:  1.0\n",
      "Test set Accuracy:  1.0\n"
     ]
    }
   ],
   "source": [
    "\n",
    "tree = DecisionTreeClassifier(criterion=\"entropy\", max_depth = 5)\n",
    "tree.fit(x_train,y_train)\n",
    "y_pred = tree.predict(x_test)\n",
    "print(\"Train set Accuracy: \", metrics.accuracy_score(y_train, tree.predict(x_train)))\n",
    "print(\"Test set Accuracy: \", metrics.accuracy_score(y_test, y_pred))"
   ]
  },
  {
   "cell_type": "code",
   "execution_count": 49,
   "id": "abbd5ce1",
   "metadata": {},
   "outputs": [
    {
     "name": "stdout",
     "output_type": "stream",
     "text": [
      "DecisionTreeClassifier(criterion='entropy', max_depth=5)\n",
      "-------------------------------------------------------\n",
      "              precision    recall  f1-score   support\n",
      "\n",
      "       DrugY     1.0000    1.0000    1.0000        19\n",
      "       drugA     1.0000    1.0000    1.0000         3\n",
      "       drugB     1.0000    1.0000    1.0000         1\n",
      "       drugC     1.0000    1.0000    1.0000         3\n",
      "       drugX     1.0000    1.0000    1.0000        14\n",
      "\n",
      "    accuracy                         1.0000        40\n",
      "   macro avg     1.0000    1.0000    1.0000        40\n",
      "weighted avg     1.0000    1.0000    1.0000        40\n",
      "\n"
     ]
    }
   ],
   "source": [
    "print(tree)\n",
    "print('-------------------------------------------------------')\n",
    "print(classification_report(y_test, y_pred,digits=4))"
   ]
  },
  {
   "cell_type": "code",
   "execution_count": 50,
   "id": "9a57f204",
   "metadata": {},
   "outputs": [
    {
     "name": "stdout",
     "output_type": "stream",
     "text": [
      "[[19  0  0  0  0]\n",
      " [ 0  3  0  0  0]\n",
      " [ 0  0  1  0  0]\n",
      " [ 0  0  0  3  0]\n",
      " [ 0  0  0  0 14]]\n"
     ]
    }
   ],
   "source": [
    "cm=confusion_matrix(y_test,y_pred)\n",
    "print(cm)"
   ]
  },
  {
   "cell_type": "markdown",
   "id": "e462efaa",
   "metadata": {},
   "source": [
    "# RANDOM FOREST"
   ]
  },
  {
   "cell_type": "code",
   "execution_count": 51,
   "id": "29e42de1",
   "metadata": {},
   "outputs": [
    {
     "name": "stdout",
     "output_type": "stream",
     "text": [
      "Train set Accuracy:  1.0\n",
      "Test set Accuracy:  1.0\n"
     ]
    }
   ],
   "source": [
    "\n",
    "rfc = RandomForestClassifier(n_jobs=-1,random_state=123)\n",
    "rfc.fit(x_train, y_train)\n",
    "\n",
    "y_test = rfc.predict(x_test)\n",
    "print(\"Train set Accuracy: \", metrics.accuracy_score(y_train, tree.predict(x_train)))\n",
    "print(\"Test set Accuracy: \", metrics.accuracy_score(y_test, y_pred))"
   ]
  },
  {
   "cell_type": "code",
   "execution_count": 52,
   "id": "4d57d8c4",
   "metadata": {},
   "outputs": [
    {
     "name": "stdout",
     "output_type": "stream",
     "text": [
      "Random Forest Classifier\n",
      "              precision    recall  f1-score   support\n",
      "\n",
      "       DrugY     1.0000    1.0000    1.0000        19\n",
      "       drugA     1.0000    1.0000    1.0000         3\n",
      "       drugB     1.0000    1.0000    1.0000         1\n",
      "       drugC     1.0000    1.0000    1.0000         3\n",
      "       drugX     1.0000    1.0000    1.0000        14\n",
      "\n",
      "    accuracy                         1.0000        40\n",
      "   macro avg     1.0000    1.0000    1.0000        40\n",
      "weighted avg     1.0000    1.0000    1.0000        40\n",
      "\n"
     ]
    }
   ],
   "source": [
    "print(\"Random Forest Classifier\")\n",
    "print(classification_report(y_test, y_pred,digits=4))"
   ]
  },
  {
   "cell_type": "code",
   "execution_count": 53,
   "id": "5ad1cf7c",
   "metadata": {},
   "outputs": [
    {
     "name": "stdout",
     "output_type": "stream",
     "text": [
      "[[19  0  0  0  0]\n",
      " [ 0  3  0  0  0]\n",
      " [ 0  0  1  0  0]\n",
      " [ 0  0  0  3  0]\n",
      " [ 0  0  0  0 14]]\n"
     ]
    }
   ],
   "source": [
    "cm=confusion_matrix(y_test,y_pred)\n",
    "print(cm)"
   ]
  },
  {
   "cell_type": "code",
   "execution_count": null,
   "id": "7a9be5c1",
   "metadata": {},
   "outputs": [],
   "source": [
    " "
   ]
  },
  {
   "cell_type": "code",
   "execution_count": null,
   "id": "ab401065",
   "metadata": {},
   "outputs": [],
   "source": []
  }
 ],
 "metadata": {
  "kernelspec": {
   "display_name": "Python 3 (ipykernel)",
   "language": "python",
   "name": "python3"
  },
  "language_info": {
   "codemirror_mode": {
    "name": "ipython",
    "version": 3
   },
   "file_extension": ".py",
   "mimetype": "text/x-python",
   "name": "python",
   "nbconvert_exporter": "python",
   "pygments_lexer": "ipython3",
   "version": "3.11.5"
  }
 },
 "nbformat": 4,
 "nbformat_minor": 5
}
